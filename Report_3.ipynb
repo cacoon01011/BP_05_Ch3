{
  "nbformat": 4,
  "nbformat_minor": 0,
  "metadata": {
    "colab": {
      "provenance": [],
      "authorship_tag": "ABX9TyOcp6FgPIl9gVtKQ7hGRp1a",
      "include_colab_link": true
    },
    "kernelspec": {
      "name": "python3",
      "display_name": "Python 3"
    },
    "language_info": {
      "name": "python"
    }
  },
  "cells": [
    {
      "cell_type": "markdown",
      "metadata": {
        "id": "view-in-github",
        "colab_type": "text"
      },
      "source": [
        "<a href=\"https://colab.research.google.com/github/cacoon01011/BP_05_Ch3/blob/main/Report_3.ipynb\" target=\"_parent\"><img src=\"https://colab.research.google.com/assets/colab-badge.svg\" alt=\"Open In Colab\"/></a>"
      ]
    },
    {
      "cell_type": "markdown",
      "source": [
        "1. 사용자로부터 두 개의 정수를 받아서 정수의 합, 정수의 차, 정수의 곱, 정수의 평균, 큰수, 작은수를 계산하여 화면에 출력하는 프로그램을 작성하라. 파이썬이 제공하는 내장함수 max(x,y), min(x,y)을 사용해보자."
      ],
      "metadata": {
        "id": "2Qg5ln19Ua7L"
      }
    },
    {
      "cell_type": "code",
      "execution_count": 2,
      "metadata": {
        "colab": {
          "base_uri": "https://localhost:8080/"
        },
        "id": "AB6FlMCbUJkU",
        "outputId": "5b3b94dc-e12f-45ff-e9ce-eb75eb8bb3c2"
      },
      "outputs": [
        {
          "output_type": "stream",
          "name": "stdout",
          "text": [
            "x :10\n",
            "y :20\n",
            "두수의 합 : 30\n",
            "두수의 차 : -10\n",
            "두수의 곱 : 200\n",
            "두수의 평균 : 15.0\n",
            "큰수 : 20\n",
            "작은수 : 10\n"
          ]
        }
      ],
      "source": [
        "x = int(input(\"x :\"))\n",
        "y = int(input(\"y :\"))\n",
        "\n",
        "print(\"두수의 합 :\", x + y)\n",
        "print(\"두수의 차 :\", x - y)\n",
        "print(\"두수의 곱 :\", x * y)\n",
        "print(\"두수의 평균 :\", (x + y)/2)\n",
        "print(\"큰수 :\", max(x,y))\n",
        "print(\"작은수 :\", min(x,y))"
      ]
    },
    {
      "cell_type": "markdown",
      "source": [
        "2. 원기둥의 부피를 계산하는 프로그램을 작성해보자. 원기둥의 부피는 다음과 같이 계산한다."
      ],
      "metadata": {
        "id": "tEf_SCwJWqQF"
      }
    },
    {
      "cell_type": "code",
      "source": [
        "r = int(input(\"r :\"))\n",
        "h = int(input(\"h :\"))\n",
        "\n",
        "vol = 3.141592 * r**2 * h\n",
        "print(\"원기둥의 부피 :\", vol)"
      ],
      "metadata": {
        "colab": {
          "base_uri": "https://localhost:8080/"
        },
        "id": "kyS5T1yPWxNp",
        "outputId": "8f2007d3-745f-4968-8a64-ad1620ee0527"
      },
      "execution_count": 3,
      "outputs": [
        {
          "output_type": "stream",
          "name": "stdout",
          "text": [
            "r :10\n",
            "h :100\n",
            "원기둥의 부피 : 31415.92\n"
          ]
        }
      ]
    },
    {
      "cell_type": "markdown",
      "source": [
        "3. 사용자로부터 정수의 자리수와 자리수의 합을 계산하는 프로그램을 작성하여 보자. 예를 들어서 사용자가 1234를 입력하였다면 1+2+3+4를 계산하면 된다. 나머지 연산자와 정수 나눗셈 연산자 //를 적극적으로 사용해보자."
      ],
      "metadata": {
        "id": "Kax6C-uCX0Zx"
      }
    },
    {
      "cell_type": "code",
      "source": [
        "number = int(input(\"정수를 입력하시오 : \"))\n",
        "\n",
        "sum = 0\n",
        "sum = sum + number % 10\n",
        "number = number // 10\n",
        "sum = sum + number % 10\n",
        "number = number // 10\n",
        "sum = sum + number % 10\n",
        "number = number // 10\n",
        "sum = sum + number % 10\n",
        "number = number // 10\n",
        "\n",
        "print(\"자리수의 합은 : \", str(sum))"
      ],
      "metadata": {
        "colab": {
          "base_uri": "https://localhost:8080/"
        },
        "id": "HLXNjRnGYU-q",
        "outputId": "e40efa97-10cd-4d61-9452-55123390eac8"
      },
      "execution_count": 5,
      "outputs": [
        {
          "output_type": "stream",
          "name": "stdout",
          "text": [
            "정수를 입력하시오 : 1234\n",
            "자리수의 합은 :  10\n"
          ]
        }
      ]
    },
    {
      "cell_type": "markdown",
      "source": [
        "4. 사용자로부터 두 점의 좌표 (x1, y1)과 (x2, y2)를 입력받아서 두 점 사이의 거리를 계산하는 프로그램을 작성해보자. 스크립트 모드로 작성하라. 거리는 다음 식으로 계산한다.\n"
      ],
      "metadata": {
        "id": "HMdgMc1SYiWD"
      }
    },
    {
      "cell_type": "code",
      "source": [
        "x1 = int(input(\"x1값을 입력하시오 : \"))\n",
        "y1 = int(input(\"y1값을 입력하시오 : \"))\n",
        "x2 = int(input(\"x2값을 입력하시오 : \"))\n",
        "y2 = int(input(\"y2값을 입력하시오 : \"))\n",
        "dist = ((x2 - x1) **2 + (y2 - y1) **2) **0.5\n",
        "print(\"두 점사이의 거리는? :\" , dist )"
      ],
      "metadata": {
        "colab": {
          "base_uri": "https://localhost:8080/"
        },
        "id": "aZmWPYQfY-u1",
        "outputId": "404c6699-8dfc-4abc-fa7d-09c991b27315"
      },
      "execution_count": 9,
      "outputs": [
        {
          "output_type": "stream",
          "name": "stdout",
          "text": [
            "x1값을 입력하시오 : 0\n",
            "y1값을 입력하시오 : 0\n",
            "x2값을 입력하시오 : 100\n",
            "y2값을 입력하시오 : 100\n",
            "두 점사이의 거리는? : 141.4213562373095\n"
          ]
        }
      ]
    },
    {
      "cell_type": "markdown",
      "source": [
        "5. 4번 문제에서 계산한 거리가 맞는지, 터틀그래픽으로 확인해보자. 거북이를 왼쪽으로 45도회전하여 141만큼 전진시킨다. 다시 거북이를 (0,0)으로 이동하고 0도를 가라키게 한 후에 100만큼 전진하고 왼쪽으로 90도 회전하여 100만큼 전진한다. 화면에 그려진 직선이 일치하는가?"
      ],
      "metadata": {
        "id": "kOL6Yrd2ZWvc"
      }
    },
    {
      "cell_type": "code",
      "source": [
        "import turtle\n",
        "t = turtle.Turtle()\n",
        "t.shape(\"turtle\")\n",
        "\n",
        "t.lt(45)\n",
        "t.fd(141)\n",
        "t.setheading(0)\n",
        "t.goto(0,0)\n",
        "t.fd(100)\n",
        "t.lt(90)\n",
        "t.fd(100)\n",
        "t._screen.exitonclick()"
      ],
      "metadata": {
        "id": "_kZ_X3roZ_Yk"
      },
      "execution_count": null,
      "outputs": []
    },
    {
      "cell_type": "markdown",
      "source": [
        "6. 사용자로부터 두 점을 입력받아서 터틀 그래픽을 이용하여 두 점을 연결하는 직선을 그린다. 직선의 끝점에 직선의 길이를 계산하여 출력해보자."
      ],
      "metadata": {
        "id": "rZeaJgUTa8sb"
      }
    },
    {
      "cell_type": "code",
      "source": [
        "import turtle\n",
        "t = turtle.Turtle()\n",
        "t.shape(\"turtle\")\n",
        "\n",
        "x1 = int(input(\"x1값을 입력하시오 : \"))\n",
        "y1 = int(input(\"y1값을 입력하시오 : \"))\n",
        "x2 = int(input(\"x2값을 입력하시오 : \"))\n",
        "y2 = int(input(\"y2값을 입력하시오 : \"))\n",
        "dist = ((x2 - x1) **2 + (y2 - y1) **2) **0.5\n",
        "\n",
        "t.up()\n",
        "t.goto(x1,y1)\n",
        "t.down()\n",
        "t.goto(x2,y2)\n",
        "t.write(\"점의 길이=\" + (str)(dist))\n",
        "t._screen.exitonclick()"
      ],
      "metadata": {
        "id": "rnDyeWZJbIqz"
      },
      "execution_count": null,
      "outputs": []
    },
    {
      "cell_type": "markdown",
      "source": [
        "7. 파이썬에서 time()을 호출하면 1970년 1월 1일 이후 흘러온 전체 초가 반환된다.이것을 적절하게 나누거나 나머지를 구해서 현재 시간의 시와 분을 계산할 수 있올까?\n"
      ],
      "metadata": {
        "id": "bzXpvTo5gq2s"
      }
    },
    {
      "cell_type": "code",
      "source": [
        "import time\n",
        "\n",
        "fseconds = time.time() // 60  #전체 초 를 60으로 나눈 몫= 전체 분\n",
        "hour = fseconds // 60 % 24  # 전체 분을 60으로 나눠서 시간으로 만든 뒤 24시간으로 나눈 나머지가 현재 시간\n",
        "minute = fseconds % 60  #전체 분을 60으로 나눈 나머지가 현재 분\n",
        "\n",
        "print(\"현재 시간(영국 그리니치 시각): \", int(hour), \"시\", int(minute), \"분\")"
      ],
      "metadata": {
        "colab": {
          "base_uri": "https://localhost:8080/"
        },
        "id": "NGN0UTzPg7SZ",
        "outputId": "551b3c4e-5571-4c20-822c-0eb2c685ab9c"
      },
      "execution_count": 12,
      "outputs": [
        {
          "output_type": "stream",
          "name": "stdout",
          "text": [
            "현재 시간(영국 그리니치 시각):  7 시 15 분\n"
          ]
        }
      ]
    },
    {
      "cell_type": "markdown",
      "source": [
        "8. 움직이는 물체의 운동에너지를 계산해보자. 물체의 에너지를 계산하는 식은 1/2 * 무게* 속도*2이다"
      ],
      "metadata": {
        "id": "p9wk9XEepTuq"
      }
    },
    {
      "cell_type": "code",
      "source": [
        "weight = int(input(\"물체의 무게를 입력하시오(킬로그램): \"))\n",
        "speed = int(input(\"물체의 속도를 입력하시오(미터/초): \")) \n",
        "\n",
        "print(\"물체는\", 1/2 * weight * speed ** 2,\"(줄)의 에너지를 가지고 있다.\")"
      ],
      "metadata": {
        "colab": {
          "base_uri": "https://localhost:8080/"
        },
        "id": "9PMQ9pOVqBKe",
        "outputId": "e0797d67-cc8f-49bd-9ac5-0f65d2628f81"
      },
      "execution_count": 13,
      "outputs": [
        {
          "output_type": "stream",
          "name": "stdout",
          "text": [
            "물체의 무게를 입력하시오(킬로그램): 10\n",
            "물체의 속도를 입력하시오(미터/초): 100\n",
            "물체는 50000.0 (줄)의 에너지를 가지고 있다.\n"
          ]
        }
      ]
    }
  ]
}